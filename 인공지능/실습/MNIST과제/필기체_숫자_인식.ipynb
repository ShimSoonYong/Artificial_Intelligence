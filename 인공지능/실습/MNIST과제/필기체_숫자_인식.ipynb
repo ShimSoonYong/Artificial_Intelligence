{
 "cells": [
  {
   "cell_type": "code",
   "execution_count": 1,
   "metadata": {},
   "outputs": [
    {
     "name": "stdout",
     "output_type": "stream",
     "text": [
      "Training data shape: (60000, 28, 28), Training labels shape: (60000,)\n",
      "Test data shape: (10000, 28, 28), Test labels shape: (10000,)\n"
     ]
    }
   ],
   "source": [
    "import tensorflow as tf\n",
    "\n",
    "# MNIST 데이터셋 로드\n",
    "(x_train, y_train), (x_test, y_test) = tf.keras.datasets.mnist.load_data()\n",
    "\n",
    "# 데이터 형태 출력\n",
    "print(f\"Training data shape: {x_train.shape}, Training labels shape: {y_train.shape}\")\n",
    "print(f\"Test data shape: {x_test.shape}, Test labels shape: {y_test.shape}\")"
   ]
  },
  {
   "cell_type": "code",
   "execution_count": 2,
   "metadata": {},
   "outputs": [],
   "source": [
    "# 하이퍼파라미터 설정\n",
    "batch_size = 1024\n",
    "epochs = 10\n",
    "learning_rate = 0.001\n",
    "\n",
    "# MNIST 데이터셋 로드 및 전처리\n",
    "(x_train, y_train), (x_test, y_test) = tf.keras.datasets.mnist.load_data()\n",
    "x_train = x_train / 255.0\n",
    "x_test = x_test / 255.0\n",
    "x_train = x_train.reshape(-1, 28, 28, 1)\n",
    "x_test = x_test.reshape(-1, 28, 28, 1)\n",
    "y_train = tf.keras.utils.to_categorical(y_train, 10)\n",
    "y_test = tf.keras.utils.to_categorical(y_test, 10)\n",
    "\n",
    "# 데이터셋 준비 (tf.data.Dataset 사용)\n",
    "train_dataset = tf.data.Dataset.from_tensor_slices((x_train, y_train)).batch(batch_size)\n",
    "test_dataset = tf.data.Dataset.from_tensor_slices((x_test, y_test)).batch(batch_size)"
   ]
  },
  {
   "cell_type": "code",
   "execution_count": 3,
   "metadata": {},
   "outputs": [],
   "source": [
    "# 모델 클래스 정의\n",
    "class MyModel(tf.keras.Model):\n",
    "    def __init__(self):\n",
    "        super(MyModel, self).__init__()\n",
    "        # Convolutional Layer 1\n",
    "        self.conv1 = tf.keras.layers.Conv2D(32, (3, 3), activation='relu')\n",
    "        # MaxPooling Layer 1\n",
    "        self.pool1 = tf.keras.layers.MaxPooling2D((2, 2))\n",
    "        # Convolutional Layer 2\n",
    "        self.conv2 = tf.keras.layers.Conv2D(64, (3, 3), activation='relu')\n",
    "        # MaxPooling Layer 2\n",
    "        self.pool2 = tf.keras.layers.MaxPooling2D((2, 2))\n",
    "        # Flatten Layer\n",
    "        self.flatten = tf.keras.layers.Flatten()\n",
    "        # Fully Connected Layer\n",
    "        self.fc1 = tf.keras.layers.Dense(128, activation='relu')\n",
    "        # Output Layer\n",
    "        self.fc2 = tf.keras.layers.Dense(10, activation='softmax')\n",
    "\n",
    "    def __call__(self, x):\n",
    "        # Forward pass through the network\n",
    "        x = self.conv1(x)\n",
    "        x = self.pool1(x)\n",
    "        x = self.conv2(x)\n",
    "        x = self.pool2(x)\n",
    "        x = self.flatten(x)\n",
    "        x = self.fc1(x)\n",
    "        return self.fc2(x)"
   ]
  },
  {
   "cell_type": "code",
   "execution_count": 4,
   "metadata": {},
   "outputs": [],
   "source": [
    "# 모델 및 옵티마이저 정의\n",
    "model = MyModel()\n",
    "optimizer = tf.optimizers.Adam(learning_rate=learning_rate)\n",
    "loss_fn = tf.losses.CategoricalCrossentropy()\n",
    "metric = tf.metrics.Accuracy()"
   ]
  },
  {
   "cell_type": "code",
   "execution_count": 5,
   "metadata": {},
   "outputs": [
    {
     "data": {
      "application/vnd.jupyter.widget-view+json": {
       "model_id": "76e1267597f94fb29e1d3ece2ebba8b4",
       "version_major": 2,
       "version_minor": 0
      },
      "text/plain": [
       "Epochs:   0%|          | 0/10 [00:00<?, ?it/s]"
      ]
     },
     "metadata": {},
     "output_type": "display_data"
    },
    {
     "name": "stdout",
     "output_type": "stream",
     "text": [
      "Epoch 1/10\n"
     ]
    },
    {
     "data": {
      "application/vnd.jupyter.widget-view+json": {
       "model_id": "862b2247d02d41889d8473d9e2def977",
       "version_major": 2,
       "version_minor": 0
      },
      "text/plain": [
       "Training Epoch 1:   0%|          | 0/59 [00:00<?, ?it/s]"
      ]
     },
     "metadata": {},
     "output_type": "display_data"
    },
    {
     "data": {
      "application/vnd.jupyter.widget-view+json": {
       "model_id": "90012364bbb74c90b6ca71835c8d7665",
       "version_major": 2,
       "version_minor": 0
      },
      "text/plain": [
       "Evaluating Epoch 1:   0%|          | 0/10 [00:00<?, ?it/s]"
      ]
     },
     "metadata": {},
     "output_type": "display_data"
    },
    {
     "name": "stdout",
     "output_type": "stream",
     "text": [
      "Test Accuracy after epoch 1: 0.9432\n",
      "Test loss after epoch 1: 0.2014\n",
      "\n",
      "Epoch 2/10\n"
     ]
    },
    {
     "data": {
      "application/vnd.jupyter.widget-view+json": {
       "model_id": "036d79af26d1404bb67fc0759b204832",
       "version_major": 2,
       "version_minor": 0
      },
      "text/plain": [
       "Training Epoch 2:   0%|          | 0/59 [00:00<?, ?it/s]"
      ]
     },
     "metadata": {},
     "output_type": "display_data"
    },
    {
     "data": {
      "application/vnd.jupyter.widget-view+json": {
       "model_id": "4315c71da25141b7887f6b02112fc9c5",
       "version_major": 2,
       "version_minor": 0
      },
      "text/plain": [
       "Evaluating Epoch 2:   0%|          | 0/10 [00:00<?, ?it/s]"
      ]
     },
     "metadata": {},
     "output_type": "display_data"
    },
    {
     "name": "stdout",
     "output_type": "stream",
     "text": [
      "Test Accuracy after epoch 2: 0.9685\n",
      "Test loss after epoch 2: 0.1070\n",
      "\n",
      "Epoch 3/10\n"
     ]
    },
    {
     "data": {
      "application/vnd.jupyter.widget-view+json": {
       "model_id": "51f0e341e1de438b8ff8f462bad6ea3e",
       "version_major": 2,
       "version_minor": 0
      },
      "text/plain": [
       "Training Epoch 3:   0%|          | 0/59 [00:00<?, ?it/s]"
      ]
     },
     "metadata": {},
     "output_type": "display_data"
    },
    {
     "data": {
      "application/vnd.jupyter.widget-view+json": {
       "model_id": "2470a37b469c4a39b3812476affbc7a2",
       "version_major": 2,
       "version_minor": 0
      },
      "text/plain": [
       "Evaluating Epoch 3:   0%|          | 0/10 [00:00<?, ?it/s]"
      ]
     },
     "metadata": {},
     "output_type": "display_data"
    },
    {
     "name": "stdout",
     "output_type": "stream",
     "text": [
      "Test Accuracy after epoch 3: 0.9777\n",
      "Test loss after epoch 3: 0.0751\n",
      "\n",
      "Epoch 4/10\n"
     ]
    },
    {
     "data": {
      "application/vnd.jupyter.widget-view+json": {
       "model_id": "042be3853c934f12a99fbd2cf205a089",
       "version_major": 2,
       "version_minor": 0
      },
      "text/plain": [
       "Training Epoch 4:   0%|          | 0/59 [00:00<?, ?it/s]"
      ]
     },
     "metadata": {},
     "output_type": "display_data"
    },
    {
     "data": {
      "application/vnd.jupyter.widget-view+json": {
       "model_id": "0c1147820c8b4cb19c138a77942ec763",
       "version_major": 2,
       "version_minor": 0
      },
      "text/plain": [
       "Evaluating Epoch 4:   0%|          | 0/10 [00:00<?, ?it/s]"
      ]
     },
     "metadata": {},
     "output_type": "display_data"
    },
    {
     "name": "stdout",
     "output_type": "stream",
     "text": [
      "Test Accuracy after epoch 4: 0.9798\n",
      "Test loss after epoch 4: 0.0638\n",
      "\n",
      "Epoch 5/10\n"
     ]
    },
    {
     "data": {
      "application/vnd.jupyter.widget-view+json": {
       "model_id": "ffee3126bfa240b087740175da45ad22",
       "version_major": 2,
       "version_minor": 0
      },
      "text/plain": [
       "Training Epoch 5:   0%|          | 0/59 [00:00<?, ?it/s]"
      ]
     },
     "metadata": {},
     "output_type": "display_data"
    },
    {
     "data": {
      "application/vnd.jupyter.widget-view+json": {
       "model_id": "5a3629a3eb2547798ac097969eb1aef7",
       "version_major": 2,
       "version_minor": 0
      },
      "text/plain": [
       "Evaluating Epoch 5:   0%|          | 0/10 [00:00<?, ?it/s]"
      ]
     },
     "metadata": {},
     "output_type": "display_data"
    },
    {
     "name": "stdout",
     "output_type": "stream",
     "text": [
      "Test Accuracy after epoch 5: 0.9823\n",
      "Test loss after epoch 5: 0.0565\n",
      "\n",
      "Epoch 6/10\n"
     ]
    },
    {
     "data": {
      "application/vnd.jupyter.widget-view+json": {
       "model_id": "6b6893eb76804221b1383b07a8ab6bd2",
       "version_major": 2,
       "version_minor": 0
      },
      "text/plain": [
       "Training Epoch 6:   0%|          | 0/59 [00:00<?, ?it/s]"
      ]
     },
     "metadata": {},
     "output_type": "display_data"
    },
    {
     "data": {
      "application/vnd.jupyter.widget-view+json": {
       "model_id": "d64170a5a6fc449391862f1b04b4952a",
       "version_major": 2,
       "version_minor": 0
      },
      "text/plain": [
       "Evaluating Epoch 6:   0%|          | 0/10 [00:00<?, ?it/s]"
      ]
     },
     "metadata": {},
     "output_type": "display_data"
    },
    {
     "name": "stdout",
     "output_type": "stream",
     "text": [
      "Test Accuracy after epoch 6: 0.9840\n",
      "Test loss after epoch 6: 0.0505\n",
      "\n",
      "Epoch 7/10\n"
     ]
    },
    {
     "data": {
      "application/vnd.jupyter.widget-view+json": {
       "model_id": "07a1edc79be544c88a34072b4c9d2b2a",
       "version_major": 2,
       "version_minor": 0
      },
      "text/plain": [
       "Training Epoch 7:   0%|          | 0/59 [00:00<?, ?it/s]"
      ]
     },
     "metadata": {},
     "output_type": "display_data"
    },
    {
     "data": {
      "application/vnd.jupyter.widget-view+json": {
       "model_id": "7e1b31fdd16849729311fb5e2d3df9eb",
       "version_major": 2,
       "version_minor": 0
      },
      "text/plain": [
       "Evaluating Epoch 7:   0%|          | 0/10 [00:00<?, ?it/s]"
      ]
     },
     "metadata": {},
     "output_type": "display_data"
    },
    {
     "name": "stdout",
     "output_type": "stream",
     "text": [
      "Test Accuracy after epoch 7: 0.9852\n",
      "Test loss after epoch 7: 0.0453\n",
      "\n",
      "Epoch 8/10\n"
     ]
    },
    {
     "data": {
      "application/vnd.jupyter.widget-view+json": {
       "model_id": "9331dbbd38a84a4096c7de3037088d57",
       "version_major": 2,
       "version_minor": 0
      },
      "text/plain": [
       "Training Epoch 8:   0%|          | 0/59 [00:00<?, ?it/s]"
      ]
     },
     "metadata": {},
     "output_type": "display_data"
    },
    {
     "data": {
      "application/vnd.jupyter.widget-view+json": {
       "model_id": "5bd6db7fc0b745c8b8b292e30188f3cb",
       "version_major": 2,
       "version_minor": 0
      },
      "text/plain": [
       "Evaluating Epoch 8:   0%|          | 0/10 [00:00<?, ?it/s]"
      ]
     },
     "metadata": {},
     "output_type": "display_data"
    },
    {
     "name": "stdout",
     "output_type": "stream",
     "text": [
      "Test Accuracy after epoch 8: 0.9857\n",
      "Test loss after epoch 8: 0.0417\n",
      "\n",
      "Epoch 9/10\n"
     ]
    },
    {
     "data": {
      "application/vnd.jupyter.widget-view+json": {
       "model_id": "a427b623c15b4fcd81b3e9a6c564a93f",
       "version_major": 2,
       "version_minor": 0
      },
      "text/plain": [
       "Training Epoch 9:   0%|          | 0/59 [00:00<?, ?it/s]"
      ]
     },
     "metadata": {},
     "output_type": "display_data"
    },
    {
     "data": {
      "application/vnd.jupyter.widget-view+json": {
       "model_id": "486369fb437547e097a5f9c9fbb533e5",
       "version_major": 2,
       "version_minor": 0
      },
      "text/plain": [
       "Evaluating Epoch 9:   0%|          | 0/10 [00:00<?, ?it/s]"
      ]
     },
     "metadata": {},
     "output_type": "display_data"
    },
    {
     "name": "stdout",
     "output_type": "stream",
     "text": [
      "Test Accuracy after epoch 9: 0.9864\n",
      "Test loss after epoch 9: 0.0392\n",
      "\n",
      "Epoch 10/10\n"
     ]
    },
    {
     "data": {
      "application/vnd.jupyter.widget-view+json": {
       "model_id": "7211dc4f4a9e4d72bd2c8c036daca6f8",
       "version_major": 2,
       "version_minor": 0
      },
      "text/plain": [
       "Training Epoch 10:   0%|          | 0/59 [00:00<?, ?it/s]"
      ]
     },
     "metadata": {},
     "output_type": "display_data"
    },
    {
     "data": {
      "application/vnd.jupyter.widget-view+json": {
       "model_id": "e1aa257675ad4f4bb78c9bf0a4329c42",
       "version_major": 2,
       "version_minor": 0
      },
      "text/plain": [
       "Evaluating Epoch 10:   0%|          | 0/10 [00:00<?, ?it/s]"
      ]
     },
     "metadata": {},
     "output_type": "display_data"
    },
    {
     "name": "stdout",
     "output_type": "stream",
     "text": [
      "Test Accuracy after epoch 10: 0.9870\n",
      "Test loss after epoch 10: 0.0371\n",
      "\n",
      "Learning finished\n"
     ]
    }
   ],
   "source": [
    "from tqdm.notebook import tqdm\n",
    "\n",
    "# 사용자 정의 훈련 루프\n",
    "for epoch in tqdm(range(epochs), desc=\"Epochs\"):\n",
    "    print(f\"Epoch {epoch + 1}/{epochs}\")\n",
    "    \n",
    "    # 정확도 메트릭 초기화 (매 에포크 시작 시)\n",
    "    metric.reset_state()\n",
    "    \n",
    "    # 훈련 단계 (배치별 진행 상황을 추적)\n",
    "    for x_batch_train, y_batch_train in tqdm(train_dataset, desc=f\"Training Epoch {epoch+1}\", leave=False):\n",
    "        with tf.GradientTape() as tape:\n",
    "            # Forward pass\n",
    "            y_pred = model(x_batch_train)\n",
    "            # 손실 계산\n",
    "            loss = loss_fn(y_batch_train, y_pred)\n",
    "\n",
    "        # 그라디언트 계산 및 가중치 업데이트\n",
    "        gradients = tape.gradient(loss, model.trainable_variables)\n",
    "        optimizer.apply_gradients(zip(gradients, model.trainable_variables))\n",
    "    \n",
    "    # 평가 단계\n",
    "    total_loss = 0.0\n",
    "    total_samples = 0\n",
    "    \n",
    "    for x_batch_test, y_batch_test in tqdm(test_dataset, desc=f\"Evaluating Epoch {epoch+1}\", leave=False):\n",
    "        y_pred_test = model(x_batch_test)\n",
    "        y_pred_labels = tf.argmax(y_pred_test, axis=1)\n",
    "        y_batch_labels = tf.argmax(y_batch_test, axis=1)\n",
    "           \n",
    "        # 정확도 업데이트\n",
    "        metric.update_state(y_batch_labels, y_pred_labels)\n",
    "\n",
    "        # 테스트 손실 계산\n",
    "        batch_loss = loss_fn(y_batch_test, y_pred_test).numpy()\n",
    "        total_loss += batch_loss * x_batch_test.shape[0]  # 배치 손실 * 배치 크기\n",
    "        total_samples += x_batch_test.shape[0]  # 배치 크기 누적\n",
    "    \n",
    "    # 평균 테스트 손실 계산\n",
    "    avg_loss = total_loss / total_samples\n",
    "    \n",
    "    print(f\"Test Accuracy after epoch {epoch + 1}: {metric.result().numpy():.4f}\")\n",
    "    print(f\"Test loss after epoch {epoch + 1}: {avg_loss:.4f}\")\n",
    "    print()\n",
    "\n",
    "print('Learning finished')\n"
   ]
  },
  {
   "cell_type": "markdown",
   "metadata": {},
   "source": [
    "# 강의자료 재현"
   ]
  },
  {
   "cell_type": "code",
   "execution_count": 6,
   "metadata": {},
   "outputs": [
    {
     "name": "stdout",
     "output_type": "stream",
     "text": [
      "Epoch: 1| Cost:  6.595241547\n",
      "Epoch: 2| Cost:  11.079387665\n",
      "Epoch: 3| Cost:  14.340824127\n",
      "Epoch: 4| Cost:  17.088769913\n",
      "Epoch: 5| Cost:  19.564792633\n",
      "Epoch: 6| Cost:  21.914093018\n",
      "Epoch: 7| Cost:  24.171522141\n",
      "Epoch: 8| Cost:  26.365398407\n",
      "Epoch: 9| Cost:  28.505214691\n",
      "Epoch: 10| Cost:  30.581352234\n",
      "Epoch: 11| Cost:  32.616886139\n",
      "Epoch: 12| Cost:  34.596672058\n",
      "Epoch: 13| Cost:  36.539016724\n",
      "Epoch: 14| Cost:  38.451534271\n",
      "Epoch: 15| Cost:  40.337684631\n",
      "Learning Finished\n"
     ]
    }
   ],
   "source": [
    "linear = tf.keras.layers.Dense(10, activation=None)\n",
    "\n",
    "criterion = tf.losses.CategoricalCrossentropy()\n",
    "optimizer = tf.optimizers.SGD(learning_rate=0.0001)\n",
    "\n",
    "training_epochs = 15\n",
    "avg_cost = 0\n",
    "\n",
    "for epoch in range(training_epochs):\n",
    "    for X,Y in train_dataset:\n",
    "        X = tf.reshape(X, shape=(-1, 28*28))\n",
    "        with tf.GradientTape() as tape:\n",
    "            hypothesis = linear(X)\n",
    "            loss = criterion(Y, hypothesis)\n",
    "        gradients = tape.gradient(loss, linear.trainable_variables)\n",
    "        optimizer.apply_gradients(zip(gradients, linear.trainable_variables))\n",
    "    \n",
    "        avg_cost += loss/len(train_dataset)\n",
    "    \n",
    "    print(f'Epoch: {epoch+1}| Cost: {avg_cost: .9f}')\n",
    "\n",
    "print('Learning Finished')"
   ]
  },
  {
   "cell_type": "code",
   "execution_count": 7,
   "metadata": {},
   "outputs": [
    {
     "name": "stdout",
     "output_type": "stream",
     "text": [
      "Accuracy:  0.0\n"
     ]
    }
   ],
   "source": [
    "metric = tf.metrics.Accuracy()\n",
    "for X, Y in test_dataset:\n",
    "    X = tf.reshape(X, shape=(-1, 28*28))\n",
    "    \n",
    "    prediction = linear(X)\n",
    "    metric.update_state(tf.argmax(Y), tf.argmax(prediction))\n",
    "\n",
    "print(\"Accuracy: \", metric.result().numpy())"
   ]
  },
  {
   "cell_type": "markdown",
   "metadata": {},
   "source": [
    "# TensorBoard"
   ]
  },
  {
   "cell_type": "code",
   "execution_count": 8,
   "metadata": {},
   "outputs": [
    {
     "name": "stdout",
     "output_type": "stream",
     "text": [
      "Epoch 1/20\n",
      "\u001b[1m118/118\u001b[0m \u001b[32m━━━━━━━━━━━━━━━━━━━━\u001b[0m\u001b[37m\u001b[0m \u001b[1m39s\u001b[0m 312ms/step - accuracy: 0.7178 - loss: 0.9550 - val_accuracy: 0.9624 - val_loss: 0.1282\n",
      "Epoch 2/20\n",
      "\u001b[1m118/118\u001b[0m \u001b[32m━━━━━━━━━━━━━━━━━━━━\u001b[0m\u001b[37m\u001b[0m \u001b[1m38s\u001b[0m 319ms/step - accuracy: 0.9669 - loss: 0.1091 - val_accuracy: 0.9681 - val_loss: 0.0949\n",
      "Epoch 3/20\n",
      "\u001b[1m118/118\u001b[0m \u001b[32m━━━━━━━━━━━━━━━━━━━━\u001b[0m\u001b[37m\u001b[0m \u001b[1m37s\u001b[0m 315ms/step - accuracy: 0.9799 - loss: 0.0663 - val_accuracy: 0.9857 - val_loss: 0.0428\n",
      "Epoch 4/20\n",
      "\u001b[1m118/118\u001b[0m \u001b[32m━━━━━━━━━━━━━━━━━━━━\u001b[0m\u001b[37m\u001b[0m \u001b[1m36s\u001b[0m 304ms/step - accuracy: 0.9840 - loss: 0.0522 - val_accuracy: 0.9870 - val_loss: 0.0390\n",
      "Epoch 5/20\n",
      "\u001b[1m118/118\u001b[0m \u001b[32m━━━━━━━━━━━━━━━━━━━━\u001b[0m\u001b[37m\u001b[0m \u001b[1m38s\u001b[0m 322ms/step - accuracy: 0.9869 - loss: 0.0399 - val_accuracy: 0.9885 - val_loss: 0.0354\n",
      "Epoch 6/20\n",
      "\u001b[1m118/118\u001b[0m \u001b[32m━━━━━━━━━━━━━━━━━━━━\u001b[0m\u001b[37m\u001b[0m \u001b[1m37s\u001b[0m 317ms/step - accuracy: 0.9906 - loss: 0.0297 - val_accuracy: 0.9879 - val_loss: 0.0352\n",
      "Epoch 7/20\n",
      "\u001b[1m118/118\u001b[0m \u001b[32m━━━━━━━━━━━━━━━━━━━━\u001b[0m\u001b[37m\u001b[0m \u001b[1m39s\u001b[0m 334ms/step - accuracy: 0.9908 - loss: 0.0285 - val_accuracy: 0.9890 - val_loss: 0.0339\n",
      "Epoch 8/20\n",
      "\u001b[1m118/118\u001b[0m \u001b[32m━━━━━━━━━━━━━━━━━━━━\u001b[0m\u001b[37m\u001b[0m \u001b[1m39s\u001b[0m 328ms/step - accuracy: 0.9933 - loss: 0.0206 - val_accuracy: 0.9904 - val_loss: 0.0300\n",
      "Epoch 9/20\n",
      "\u001b[1m  3/118\u001b[0m \u001b[37m━━━━━━━━━━━━━━━━━━━━\u001b[0m \u001b[1m36s\u001b[0m 313ms/step - accuracy: 0.9926 - loss: 0.0193"
     ]
    }
   ],
   "source": [
    "import tensorflow as tf\n",
    "from tensorflow.keras import layers\n",
    "from tensorflow.keras.callbacks import TensorBoard\n",
    "import os\n",
    "\n",
    "# MNIST 데이터셋 로드 및 전처리\n",
    "mnist = tf.keras.datasets.mnist\n",
    "(x_train, y_train), (x_test, y_test) = mnist.load_data()\n",
    "\n",
    "# 데이터를 28x28 이미지로 변환하고 0~1 범위로 정규화\n",
    "x_train = x_train.reshape(-1, 28, 28, 1).astype(\"float32\") / 255.0\n",
    "x_test = x_test.reshape(-1, 28, 28, 1).astype(\"float32\") / 255.0\n",
    "\n",
    "# 모델 정의\n",
    "model = tf.keras.Sequential([\n",
    "    layers.Input((28, 28, 1)),\n",
    "    layers.Conv2D(128, (3, 3), activation='relu'),\n",
    "    layers.MaxPooling2D((2, 2)),\n",
    "    layers.Conv2D(64, (3, 3), activation='relu'),\n",
    "    layers.MaxPooling2D((2, 2)),\n",
    "    layers.Conv2D(64, (3, 3), activation='relu'),\n",
    "    layers.Flatten(),\n",
    "    layers.Dense(128, activation='relu'),\n",
    "    layers.Dense(64, activation='relu'),\n",
    "    layers.Dense(10, activation='softmax')\n",
    "])\n",
    "\n",
    "# 모델 컴파일\n",
    "model.compile(optimizer='adam',\n",
    "              loss='sparse_categorical_crossentropy',\n",
    "              metrics=['accuracy'])\n",
    "\n",
    "# 홈 디렉토리에 텐서보드 로그 파일 생성\n",
    "log_dir = os.path.join(os.path.expanduser('~'), \"tensorboard_logs/MNIST\")\n",
    "os.makedirs(log_dir, exist_ok=True)\n",
    "\n",
    "# TensorBoard 콜백 설정\n",
    "tensorboard_callback = TensorBoard(log_dir=log_dir, histogram_freq=1)\n",
    "\n",
    "# 모델 훈련\n",
    "model.fit(x_train, y_train, epochs=20, batch_size=512,\n",
    "          validation_data=(x_test, y_test), callbacks=[tensorboard_callback])\n",
    "\n",
    "# 모델 평가\n",
    "test_loss, test_acc = model.evaluate(x_test, y_test, verbose=2)\n",
    "print(f'\\nTest accuracy: {test_acc}')\n"
   ]
  },
  {
   "cell_type": "markdown",
   "metadata": {},
   "source": [
    "# CIFAR-10 데이터"
   ]
  },
  {
   "cell_type": "code",
   "execution_count": 12,
   "metadata": {},
   "outputs": [],
   "source": [
    "import tensorflow as tf\n",
    "from tensorflow.keras import layers, models\n",
    "import numpy as np\n",
    "import matplotlib.pyplot as plt\n",
    "from tensorflow.keras.callbacks import TensorBoard\n",
    "import os\n",
    "\n",
    "# CIFAR-10 데이터셋 로드\n",
    "(x_train, y_train), (x_test, y_test) = tf.keras.datasets.cifar10.load_data()\n",
    "\n",
    "# 데이터 전처리: 픽셀 값을 0과 1 사이로 정규화\n",
    "x_train = x_train.astype('float32') / 255.0\n",
    "x_test = x_test.astype('float32') / 255.0\n",
    "\n",
    "# 레이블을 원-핫 인코딩\n",
    "y_train = tf.keras.utils.to_categorical(y_train, 10)\n",
    "y_test = tf.keras.utils.to_categorical(y_test, 10)"
   ]
  },
  {
   "cell_type": "code",
   "execution_count": 25,
   "metadata": {},
   "outputs": [],
   "source": [
    "# 모델 생성\n",
    "model = models.Sequential()\n",
    "\n",
    "# 첫 번째 합성곱 층\n",
    "model.add(layers.Input((32, 32, 3)))\n",
    "model.add(layers.Conv2D(32, (3, 3), activation='relu'))\n",
    "model.add(layers.MaxPooling2D((2, 2)))\n",
    "model.add(layers.Dropout(0.25))\n",
    "\n",
    "# 두 번째 합성곱 층\n",
    "model.add(layers.Conv2D(64, (3, 3), padding='same', activation='relu'))\n",
    "model.add(layers.MaxPooling2D((2, 2)))\n",
    "model.add(layers.Dropout(0.25))\n",
    "\n",
    "model.add(layers.Conv2D(64, (3, 3), padding='same', activation='relu'))\n",
    "model.add(layers.Dropout(0.25))\n",
    "\n",
    "model.add(layers.Conv2D(64, (3, 3), padding='same', activation='relu'))\n",
    "model.add(layers.Dropout(0.25))\n",
    "\n",
    "model.add(layers.Conv2D(64, (3, 3), padding='same', activation='relu'))\n",
    "model.add(layers.MaxPooling2D((2, 2)))\n",
    "model.add(layers.Dropout(0.25))\n",
    "\n",
    "# 세 번째 합성곱 층\n",
    "model.add(layers.Conv2D(64, (3, 3), padding='same', activation='relu'))\n",
    "\n",
    "# Fully connected 층을 위해 Flatten\n",
    "model.add(layers.Flatten())\n",
    "model.add(layers.Dense(64, activation='relu'))\n",
    "model.add(layers.Dropout(0.25))\n",
    "model.add(layers.Dense(10, activation='softmax'))  # 10개의 클래스이므로 출력층 노드 개수는 10개"
   ]
  },
  {
   "cell_type": "code",
   "execution_count": 26,
   "metadata": {},
   "outputs": [],
   "source": [
    "# 홈 디렉토리에 텐서보드 로그 파일 생성\n",
    "log_dir = os.path.join(os.path.expanduser('~'), \"tensorboard_logs/CIFAR10\")\n",
    "os.makedirs(log_dir, exist_ok=True)\n",
    "\n",
    "# TensorBoard 콜백 설정\n",
    "tensorboard_callback = TensorBoard(log_dir=log_dir, histogram_freq=1)"
   ]
  },
  {
   "cell_type": "code",
   "execution_count": 27,
   "metadata": {},
   "outputs": [
    {
     "name": "stdout",
     "output_type": "stream",
     "text": [
      "Epoch 1/20\n",
      "\u001b[1m782/782\u001b[0m \u001b[32m━━━━━━━━━━━━━━━━━━━━\u001b[0m\u001b[37m\u001b[0m \u001b[1m33s\u001b[0m 37ms/step - accuracy: 0.2984 - loss: 1.8592 - val_accuracy: 0.5443 - val_loss: 1.2647\n",
      "Epoch 2/20\n",
      "\u001b[1m782/782\u001b[0m \u001b[32m━━━━━━━━━━━━━━━━━━━━\u001b[0m\u001b[37m\u001b[0m \u001b[1m29s\u001b[0m 37ms/step - accuracy: 0.5472 - loss: 1.2456 - val_accuracy: 0.6110 - val_loss: 1.0894\n",
      "Epoch 3/20\n",
      "\u001b[1m782/782\u001b[0m \u001b[32m━━━━━━━━━━━━━━━━━━━━\u001b[0m\u001b[37m\u001b[0m \u001b[1m37s\u001b[0m 47ms/step - accuracy: 0.6372 - loss: 1.0132 - val_accuracy: 0.6575 - val_loss: 0.9747\n",
      "Epoch 4/20\n",
      "\u001b[1m782/782\u001b[0m \u001b[32m━━━━━━━━━━━━━━━━━━━━\u001b[0m\u001b[37m\u001b[0m \u001b[1m36s\u001b[0m 47ms/step - accuracy: 0.6926 - loss: 0.8625 - val_accuracy: 0.6939 - val_loss: 0.8933\n",
      "Epoch 5/20\n",
      "\u001b[1m782/782\u001b[0m \u001b[32m━━━━━━━━━━━━━━━━━━━━\u001b[0m\u001b[37m\u001b[0m \u001b[1m32s\u001b[0m 41ms/step - accuracy: 0.7312 - loss: 0.7549 - val_accuracy: 0.7258 - val_loss: 0.7892\n",
      "Epoch 6/20\n",
      "\u001b[1m782/782\u001b[0m \u001b[32m━━━━━━━━━━━━━━━━━━━━\u001b[0m\u001b[37m\u001b[0m \u001b[1m33s\u001b[0m 42ms/step - accuracy: 0.7664 - loss: 0.6723 - val_accuracy: 0.7274 - val_loss: 0.7931\n",
      "Epoch 7/20\n",
      "\u001b[1m782/782\u001b[0m \u001b[32m━━━━━━━━━━━━━━━━━━━━\u001b[0m\u001b[37m\u001b[0m \u001b[1m35s\u001b[0m 44ms/step - accuracy: 0.7876 - loss: 0.6051 - val_accuracy: 0.7175 - val_loss: 0.8396\n",
      "Epoch 8/20\n",
      "\u001b[1m782/782\u001b[0m \u001b[32m━━━━━━━━━━━━━━━━━━━━\u001b[0m\u001b[37m\u001b[0m \u001b[1m33s\u001b[0m 42ms/step - accuracy: 0.8065 - loss: 0.5496 - val_accuracy: 0.7267 - val_loss: 0.7991\n",
      "Epoch 9/20\n",
      "\u001b[1m782/782\u001b[0m \u001b[32m━━━━━━━━━━━━━━━━━━━━\u001b[0m\u001b[37m\u001b[0m \u001b[1m34s\u001b[0m 44ms/step - accuracy: 0.8257 - loss: 0.4888 - val_accuracy: 0.7423 - val_loss: 0.7677\n",
      "Epoch 10/20\n",
      "\u001b[1m782/782\u001b[0m \u001b[32m━━━━━━━━━━━━━━━━━━━━\u001b[0m\u001b[37m\u001b[0m \u001b[1m33s\u001b[0m 43ms/step - accuracy: 0.8451 - loss: 0.4401 - val_accuracy: 0.7442 - val_loss: 0.8226\n",
      "Epoch 11/20\n",
      "\u001b[1m782/782\u001b[0m \u001b[32m━━━━━━━━━━━━━━━━━━━━\u001b[0m\u001b[37m\u001b[0m \u001b[1m34s\u001b[0m 43ms/step - accuracy: 0.8616 - loss: 0.3926 - val_accuracy: 0.7096 - val_loss: 0.9586\n",
      "Epoch 12/20\n",
      "\u001b[1m782/782\u001b[0m \u001b[32m━━━━━━━━━━━━━━━━━━━━\u001b[0m\u001b[37m\u001b[0m \u001b[1m37s\u001b[0m 47ms/step - accuracy: 0.8708 - loss: 0.3672 - val_accuracy: 0.7435 - val_loss: 0.8695\n",
      "Epoch 13/20\n",
      "\u001b[1m782/782\u001b[0m \u001b[32m━━━━━━━━━━━━━━━━━━━━\u001b[0m\u001b[37m\u001b[0m \u001b[1m36s\u001b[0m 45ms/step - accuracy: 0.8870 - loss: 0.3241 - val_accuracy: 0.7493 - val_loss: 0.8720\n",
      "Epoch 14/20\n",
      "\u001b[1m782/782\u001b[0m \u001b[32m━━━━━━━━━━━━━━━━━━━━\u001b[0m\u001b[37m\u001b[0m \u001b[1m36s\u001b[0m 46ms/step - accuracy: 0.8971 - loss: 0.2950 - val_accuracy: 0.7417 - val_loss: 0.9015\n",
      "Epoch 15/20\n",
      "\u001b[1m782/782\u001b[0m \u001b[32m━━━━━━━━━━━━━━━━━━━━\u001b[0m\u001b[37m\u001b[0m \u001b[1m37s\u001b[0m 47ms/step - accuracy: 0.9093 - loss: 0.2608 - val_accuracy: 0.7416 - val_loss: 0.9713\n",
      "Epoch 16/20\n",
      "\u001b[1m782/782\u001b[0m \u001b[32m━━━━━━━━━━━━━━━━━━━━\u001b[0m\u001b[37m\u001b[0m \u001b[1m36s\u001b[0m 46ms/step - accuracy: 0.9180 - loss: 0.2312 - val_accuracy: 0.7439 - val_loss: 0.9704\n",
      "Epoch 17/20\n",
      "\u001b[1m782/782\u001b[0m \u001b[32m━━━━━━━━━━━━━━━━━━━━\u001b[0m\u001b[37m\u001b[0m \u001b[1m41s\u001b[0m 53ms/step - accuracy: 0.9238 - loss: 0.2155 - val_accuracy: 0.7300 - val_loss: 1.0611\n",
      "Epoch 18/20\n",
      "\u001b[1m782/782\u001b[0m \u001b[32m━━━━━━━━━━━━━━━━━━━━\u001b[0m\u001b[37m\u001b[0m \u001b[1m44s\u001b[0m 57ms/step - accuracy: 0.9299 - loss: 0.1934 - val_accuracy: 0.7409 - val_loss: 1.0893\n",
      "Epoch 19/20\n",
      "\u001b[1m782/782\u001b[0m \u001b[32m━━━━━━━━━━━━━━━━━━━━\u001b[0m\u001b[37m\u001b[0m \u001b[1m44s\u001b[0m 56ms/step - accuracy: 0.9330 - loss: 0.1896 - val_accuracy: 0.7331 - val_loss: 1.1625\n",
      "Epoch 20/20\n",
      "\u001b[1m782/782\u001b[0m \u001b[32m━━━━━━━━━━━━━━━━━━━━\u001b[0m\u001b[37m\u001b[0m \u001b[1m39s\u001b[0m 49ms/step - accuracy: 0.9381 - loss: 0.1735 - val_accuracy: 0.7302 - val_loss: 1.1235\n"
     ]
    }
   ],
   "source": [
    "# 모델 컴파일\n",
    "model.compile(optimizer='adam',\n",
    "              loss='categorical_crossentropy',\n",
    "              metrics=['accuracy'])\n",
    "\n",
    "# 모델 학습\n",
    "history = model.fit(x_train, y_train, epochs=20, batch_size=64,\n",
    "                    validation_data=(x_test, y_test), \n",
    "                    callbacks=[tensorboard_callback])"
   ]
  },
  {
   "cell_type": "code",
   "execution_count": 28,
   "metadata": {},
   "outputs": [
    {
     "name": "stdout",
     "output_type": "stream",
     "text": [
      "313/313 - 3s - 10ms/step - accuracy: 0.7302 - loss: 1.1235\n",
      "Test accuracy: 0.7301999926567078\n"
     ]
    },
    {
     "data": {
      "image/png": "[encoded data removed]",
      "text/plain": [
       "<Figure size 640x480 with 1 Axes>"
      ]
     },
     "metadata": {},
     "output_type": "display_data"
    }
   ],
   "source": [
    "# 테스트 데이터로 평가\n",
    "test_loss, test_acc = model.evaluate(x_test, y_test, verbose=2)\n",
    "print(f\"Test accuracy: {test_acc}\")\n",
    "\n",
    "# 학습 과정 시각화\n",
    "plt.plot(history.history['accuracy'], label='Train Accuracy')\n",
    "plt.plot(history.history['val_accuracy'], label='Validation Accuracy')\n",
    "plt.xlabel('Epochs')\n",
    "plt.ylabel('Accuracy')\n",
    "plt.legend(loc='lower right')\n",
    "plt.show()"
   ]
  }
 ],
 "metadata": {
  "kernelspec": {
   "display_name": "Python 3",
   "language": "python",
   "name": "python3"
  },
  "language_info": {
   "codemirror_mode": {
    "name": "ipython",
    "version": 3
   },
   "file_extension": ".py",
   "mimetype": "text/x-python",
   "name": "python",
   "nbconvert_exporter": "python",
   "pygments_lexer": "ipython3",
   "version": "3.10.0"
  }
 },
 "nbformat": 4,
 "nbformat_minor": 2
}
